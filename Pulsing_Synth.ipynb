{
 "cells": [
  {
   "cell_type": "code",
   "execution_count": 16,
   "metadata": {
    "hideCode": true,
    "hidePrompt": true
   },
   "outputs": [
    {
     "name": "stdout",
     "output_type": "stream",
     "text": [
      "Move the slider across to a desired position. F1 = 900Hz , F2 = Ranges from 900Hz to 910Hz\n"
     ]
    },
    {
     "data": {
      "application/vnd.jupyter.widget-view+json": {
       "model_id": "13853f6869a145c0aa7905b9ddb1a67b",
       "version_major": 2,
       "version_minor": 0
      },
      "text/plain": [
       "interactive(children=(IntSlider(value=49, description='distance', min=1, step=6), Output()), _dom_classes=('wi…"
      ]
     },
     "metadata": {},
     "output_type": "display_data"
    },
    {
     "data": {
      "application/vnd.jupyter.widget-view+json": {
       "model_id": "feaa4e0897ed4420b3b37c14db8208d6",
       "version_major": 2,
       "version_minor": 0
      },
      "text/plain": [
       "Button(description='Click to Hear Pulsing', style=ButtonStyle())"
      ]
     },
     "metadata": {},
     "output_type": "display_data"
    },
    {
     "name": "stdout",
     "output_type": "stream",
     "text": [
      "Value 900.0\n",
      "Value 902.5\n",
      "Value 905.625\n",
      "Value 908.125\n",
      "Value 910.0\n"
     ]
    }
   ],
   "source": [
    "from ipywidgets import interact, interactive, fixed, interact_manual\n",
    "import ipywidgets as widgets\n",
    "from IPython.display import display\n",
    "import time\n",
    "import random\n",
    "#from gtts import gTTS\n",
    "import os\n",
    "\n",
    "\n",
    "import numpy as np\n",
    "import matplotlib.pyplot as plt\n",
    "#%matplotlib inline\n",
    "\n",
    "import pandas as pd\n",
    "import ctcsound\n",
    "\n",
    "try:\n",
    "    pt\n",
    "except NameError:\n",
    "    var_exists = False\n",
    "else:\n",
    "    pt.stop()\n",
    "    pt.join()\n",
    "    time.sleep(2)\n",
    "\n",
    "\n",
    "pan = 0\n",
    "index = 10\n",
    "cs = ctcsound.Csound()\n",
    "\n",
    "csd = '''\n",
    "<CsoundSynthesizer>\n",
    "<CsOptions>\n",
    "-odac -d\n",
    "\n",
    "</CsOptions>\n",
    "<CsInstruments>\n",
    "\n",
    "sr = 44100\n",
    "ksmps = 32\n",
    "nchnls = 2\n",
    "0dbfs = 1\n",
    "\n",
    "instr 1\n",
    "\n",
    ";aMod1 poscil 200, 700, 1\n",
    "aMod1 poscil p4, p5, 1  \n",
    "; p4 = amp1, p5 = f1, p6 = amp2, p7 = f2 \n",
    ";aMod2 poscil 1800, 290, 1\n",
    "aMod2 poscil p6, p7, 1\n",
    "kenv linen p9 , 0.3 , p3, p9\n",
    "aSig poscil kenv, 440+aMod1+aMod2, 1\n",
    "fout      \"stimulus.wav\", 6, aSig \n",
    "outs aSig*(1-p8), aSig*p8\n",
    "endin\n",
    "\n",
    "\n",
    "\n",
    "</CsInstruments>\n",
    "<CsScore>\n",
    "f 0 14400\n",
    "f 1 0 1024 10 1 \n",
    "\n",
    "</CsScore>\n",
    "\n",
    "</CsoundSynthesizer>\n",
    "'''\n",
    "\n",
    "\n",
    "    \n",
    "cs.compileCsdText(csd)\n",
    "cs.start()\n",
    "pt = ctcsound.CsoundPerformanceThread(cs.csound())\n",
    "pt.play()\n",
    "\n",
    "def f(distance):\n",
    "    global index\n",
    "    index = distance\n",
    "\n",
    "\n",
    "def on_button_clicked(b):\n",
    "    in_min  = 1\n",
    "    in_max = 97\n",
    "    out_min=900      #200 #700    #690\n",
    "    out_max = 910    #205 #705       #710\n",
    "    #out_max = 900\n",
    "    \n",
    "\n",
    "\n",
    "    global index\n",
    "    pan = 0.5\n",
    "    #tts = gTTS(text=(str(index)+'percent'), lang='en')\n",
    "    #tts.save(\"num.mp3\")\n",
    "    #os.system(\"afplay num.mp3\")\n",
    "    #if (index>50):\n",
    "        #pan = 1\n",
    "    #if (index<50):\n",
    "        #pan = 0\n",
    "    #if (index==50):\n",
    "        #pan = 0.5\n",
    "    freq = (index - in_min) * (out_max - out_min) / (in_max - in_min) + out_min  \n",
    "    #print(freq)  \n",
    "\n",
    "    pt.scoreEvent(False, 'i', (1, 0, 4, 200, out_min, 200, freq, pan, 0.5))\n",
    "    #pt.scoreEvent(False, 'i', (1, 0, 4, 200, 1500, 200, freq, pan, 0.5))\n",
    "    print(\"Value\",freq)\n",
    "    time.sleep(5)\n",
    "    #os.rename('stimulus.wav','stimulus_'+ str(freq) + '.wav')\n",
    "    \n",
    "\n",
    "#print(\"Press Shift + Enter to activate cell\")\n",
    "#print(\"\\nUse the Slider to set a Value and Click the Sonify Me Button to play a sonification.\")\n",
    "#print(\"\\nTry to explore the full range of values and listen carefully:\")\n",
    "#print(\"Notice the variation in pulse rate and panning (left/right) at different values.\")\n",
    "print(\"Move the slider across to a desired position. F1 = 900Hz , F2 = Ranges from 900Hz to 910Hz\")\n",
    "interact (f, distance=(1,100,6))\n",
    "\n",
    "button = widgets.Button(description=\"Click to Hear Pulsing\")\n",
    "display(button)\n",
    "button.on_click(on_button_clicked)\n",
    "\n",
    "#print(\"You will be tested on your ability to judge the value of sonifications on this scale.\")\n",
    "#print(\"When you are ready, press the Space Bar to proceed.\")"
   ]
  },
  {
   "cell_type": "code",
   "execution_count": null,
   "metadata": {
    "hideCode": true,
    "hidePrompt": true
   },
   "outputs": [],
   "source": []
  }
 ],
 "metadata": {
  "hide_code_all_hidden": true,
  "kernelspec": {
   "display_name": "py366",
   "language": "python",
   "name": "py366"
  },
  "language_info": {
   "codemirror_mode": {
    "name": "ipython",
    "version": 3
   },
   "file_extension": ".py",
   "mimetype": "text/x-python",
   "name": "python",
   "nbconvert_exporter": "python",
   "pygments_lexer": "ipython3",
   "version": "3.6.6"
  }
 },
 "nbformat": 4,
 "nbformat_minor": 2
}
